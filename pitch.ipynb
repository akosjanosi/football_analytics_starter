{
  "nbformat": 4,
  "nbformat_minor": 0,
  "metadata": {
    "colab": {
      "provenance": [],
      "authorship_tag": "ABX9TyO0R30Xo0bNBDhn3FKCmNx6",
      "include_colab_link": true
    },
    "kernelspec": {
      "name": "python3",
      "display_name": "Python 3"
    },
    "language_info": {
      "name": "python"
    }
  },
  "cells": [
    {
      "cell_type": "markdown",
      "metadata": {
        "id": "view-in-github",
        "colab_type": "text"
      },
      "source": [
        "<a href=\"https://colab.research.google.com/github/akosjanosi/football_analytics_starter/blob/main/pitch.ipynb\" target=\"_parent\"><img src=\"https://colab.research.google.com/assets/colab-badge.svg\" alt=\"Open In Colab\"/></a>"
      ]
    },
    {
      "cell_type": "code",
      "execution_count": 1,
      "metadata": {
        "id": "a0IYQKad3P39"
      },
      "outputs": [],
      "source": [
        "import matplotlib.pyplot as plt\n",
        "from matplotlib.patches import Arc\n",
        "import numpy as np\n",
        "import json"
      ]
    },
    {
      "cell_type": "markdown",
      "source": [
        "Plotting a pitch"
      ],
      "metadata": {
        "id": "gS-CoPbSDwz5"
      }
    },
    {
      "cell_type": "code",
      "source": [
        "def createPitch(length, width, unity, linecolor): # in meters\n",
        "    # Code by @JPJ_dejong\n",
        "\n",
        "    \"\"\"\n",
        "    creates a plot in which the 'length' is the length of the pitch (goal to goal).\n",
        "    And 'width' is the width of the pitch (sideline to sideline).\n",
        "    Fill in the unity in meters or in yards.\n",
        "\n",
        "    \"\"\"\n",
        "    #Set unity\n",
        "    if unity == \"meters\":\n",
        "        # Set boundaries\n",
        "        if length >= 120.5 or width >= 75.5:\n",
        "            return(str(\"Field dimensions are too big for meters as unity, didn't you mean yards as unity?\\\n",
        "                       Otherwise the maximum length is 120 meters and the maximum width is 75 meters. Please try again\"))\n",
        "        #Run program if unity and boundaries are accepted\n",
        "        else:\n",
        "            #Create figure\n",
        "            fig = plt.figure()\n",
        "            #fig.set_size_inches(7, 5)\n",
        "            ax = fig.add_subplot(1,1,1)\n",
        "\n",
        "            #Pitch Outline & Centre Line\n",
        "            plt.plot([0,0], [0,width], color=linecolor)\n",
        "            plt.plot([0,length], [width,width], color=linecolor)\n",
        "            plt.plot([length,length], [width,0], color=linecolor)\n",
        "            plt.plot([length,0], [0,0], color=linecolor)\n",
        "            plt.plot([length/2,length/2], [0,width], color=linecolor)\n",
        "\n",
        "            #Left Penalty Area\n",
        "            plt.plot([16.5 ,16.5], [(width/2 +16.5), (width/2-16.5)], color=linecolor)\n",
        "            plt.plot([0,16.5], [(width/2 +16.5), (width/2 +16.5)], color=linecolor)\n",
        "            plt.plot([16.5,0], [(width/2 -16.5), (width/2 -16.5)], color=linecolor)\n",
        "\n",
        "            #Right Penalty Area\n",
        "            plt.plot([(length-16.5), length], [(width/2 +16.5), (width/2 +16.5)], color=linecolor)\n",
        "            plt.plot([(length-16.5), (length-16.5)], [(width/2 +16.5), (width/2-16.5)], color=linecolor)\n",
        "            plt.plot([(length-16.5), length], [(width/2 -16.5), (width/2 -16.5)], color=linecolor)\n",
        "\n",
        "            #Left 5-meters Box\n",
        "            plt.plot([0,5.5], [(width/2+7.32/2+5.5), (width/2+7.32/2+5.5)], color=linecolor)\n",
        "            plt.plot([5.5,5.5], [(width/2+7.32/2+5.5), (width/2-7.32/2-5.5)], color=linecolor)\n",
        "            plt.plot([5.5,0.5], [(width/2-7.32/2-5.5), (width/2-7.32/2-5.5)], color=linecolor)\n",
        "\n",
        "            #Right 5-meters Box\n",
        "            plt.plot([length,length-5.5], [(width/2+7.32/2+5.5), (width/2+7.32/2+5.5)], color=linecolor)\n",
        "            plt.plot([length-5.5,length-5.5], [(width/2+7.32/2+5.5), width/2-7.32/2-5.5], color=linecolor)\n",
        "            plt.plot([length-5.5,length], [width/2-7.32/2-5.5, width/2-7.32/2-5.5], color=linecolor)\n",
        "\n",
        "            #Prepare Circles\n",
        "            centreCircle = plt.Circle((length/2,width/2), 9.15, color=linecolor,fill=False)\n",
        "            centreSpot = plt.Circle((length/2,width/2), 0.8, color=linecolor)\n",
        "            leftPenSpot = plt.Circle((11,width/2), 0.8, color=linecolor)\n",
        "            rightPenSpot = plt.Circle((length-11,width/2), 0.8, color=linecolor)\n",
        "\n",
        "            #Draw Circles\n",
        "            ax.add_patch(centreCircle)\n",
        "            ax.add_patch(centreSpot)\n",
        "            ax.add_patch(leftPenSpot)\n",
        "            ax.add_patch(rightPenSpot)\n",
        "\n",
        "            #Prepare Arcs\n",
        "            leftArc = Arc((11,width/2), height=18.3, width=18.3, angle=0, theta1=308, theta2=52, color=linecolor)\n",
        "            rightArc = Arc((length-11,width/2), height=18.3, width=18.3, angle=0, theta1=128, theta2=232, color=linecolor)\n",
        "\n",
        "            #Draw Arcs\n",
        "            ax.add_patch(leftArc)\n",
        "            ax.add_patch(rightArc)\n",
        "            #Axis titles\n",
        "\n",
        "    #check unity again\n",
        "    elif unity == \"yards\":\n",
        "        #check boundaries again\n",
        "        if length <= 95:\n",
        "            return(str(\"Didn't you mean meters as unity?\"))\n",
        "        elif length >= 131 or width >= 101:\n",
        "            return(str(\"Field dimensions are too big. Maximum length is 130, maximum width is 100\"))\n",
        "        #Run program if unity and boundaries are accepted\n",
        "        else:\n",
        "            #Create figure\n",
        "            fig = plt.figure()\n",
        "            #fig.set_size_inches(7, 5)\n",
        "            ax = fig.add_subplot(1, 1, 1)\n",
        "\n",
        "            #Pitch Outline & Centre Line\n",
        "            plt.plot([0, 0], [0, width], color=linecolor)\n",
        "            plt.plot([0, length], [width, width], color=linecolor)\n",
        "            plt.plot([length, length], [width, 0], color=linecolor)\n",
        "            plt.plot([length, 0], [0, 0], color=linecolor)\n",
        "            plt.plot([length/2, length/2], [0, width], color=linecolor)\n",
        "\n",
        "            #Left Penalty Area\n",
        "            plt.plot([18, 18], [(width/2 +18), (width/2 -18)], color=linecolor)\n",
        "            plt.plot([0, 18], [(width/2 +18), (width/2 +18)], color=linecolor)\n",
        "            plt.plot([18, 0], [(width/2 -18), (width/2 -18)], color=linecolor)\n",
        "\n",
        "            #Right Penalty Area\n",
        "            plt.plot([(length-18), length], [(width/2 +18), (width/2 +18)], color=linecolor)\n",
        "            plt.plot([(length-18), (length-18)], [(width/2 +18), (width/2-18)], color=linecolor)\n",
        "            plt.plot([(length-18), length], [(width/2 -18), (width/2 -18)], color=linecolor)\n",
        "\n",
        "            #Left 6-yard Box\n",
        "            plt.plot([0,6], [(width/2+7.32/2+6), (width/2+7.32/2+6)], color=linecolor)\n",
        "            plt.plot([6,6], [(width/2+7.32/2+6), (width/2-7.32/2-6)], color=linecolor)\n",
        "            plt.plot([6,0], [(width/2-7.32/2-6), (width/2-7.32/2-6)], color=linecolor)\n",
        "\n",
        "            #Right 6-yard Box\n",
        "            plt.plot([length, length-6], [(width/2+7.32/2+6), (width/2+7.32/2+6)], color=linecolor)\n",
        "            plt.plot([length-6, length-6], [(width/2+7.32/2+6), width/2-7.32/2-6], color=linecolor)\n",
        "            plt.plot([length-6, length], [(width/2-7.32/2-6), width/2-7.32/2-6], color=linecolor)\n",
        "\n",
        "            #Prepare Circles; 10 yards distance. penalty on 12 yards\n",
        "            centreCircle = plt.Circle((length/2, width/2), 10, color=linecolor, fill=False)\n",
        "            centreSpot = plt.Circle((length/2, width/2), 0.8, color=linecolor)\n",
        "            leftPenSpot = plt.Circle((12, width/2), 0.8, color=linecolor)\n",
        "            rightPenSpot = plt.Circle((length-12, width/2), 0.8, color=linecolor)\n",
        "\n",
        "            #Draw Circles\n",
        "            ax.add_patch(centreCircle)\n",
        "            ax.add_patch(centreSpot)\n",
        "            ax.add_patch(leftPenSpot)\n",
        "            ax.add_patch(rightPenSpot)\n",
        "\n",
        "            #Prepare Arcs\n",
        "            leftArc = Arc((11, width/2), height=20, width=20, angle=0, theta1=312, theta2=48, color=linecolor)\n",
        "            rightArc = Arc((length-11, width/2), height=20, width=20, angle=0, theta1=135, theta2=225, color=linecolor)\n",
        "\n",
        "            #Draw Arcs\n",
        "            ax.add_patch(leftArc)\n",
        "            ax.add_patch(rightArc)\n",
        "\n",
        "    #Tidy Axes\n",
        "    plt.axis('off')\n",
        "\n",
        "    return fig, ax"
      ],
      "metadata": {
        "id": "l3B4vtVY3RvC"
      },
      "execution_count": 2,
      "outputs": []
    },
    {
      "cell_type": "code",
      "source": [
        "# Set pitch dimensions\n",
        "pitchLengthX = 120\n",
        "pitchWidthY = 80"
      ],
      "metadata": {
        "id": "QUkc0dRWBodi"
      },
      "execution_count": 3,
      "outputs": []
    },
    {
      "cell_type": "code",
      "source": [
        "#Create pitch using def above\n",
        "(fig, ax) = createPitch(pitchLengthX, pitchWidthY, 'yards', 'grey')"
      ],
      "metadata": {
        "colab": {
          "base_uri": "https://localhost:8080/",
          "height": 406
        },
        "id": "30BGFBVe-q6z",
        "outputId": "02306563-2e87-40e8-d5a7-4efc409a0d89"
      },
      "execution_count": 9,
      "outputs": [
        {
          "output_type": "display_data",
          "data": {
            "text/plain": [
              "<Figure size 640x480 with 1 Axes>"
            ],
            "image/png": "[encoded data removed]"
          },
          "metadata": {}
        }
      ]
    }
  ]
}